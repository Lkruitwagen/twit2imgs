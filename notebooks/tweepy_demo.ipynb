{
 "cells": [
  {
   "cell_type": "code",
   "execution_count": null,
   "id": "8c75317c-2383-4411-b108-27c90cc6d807",
   "metadata": {},
   "outputs": [],
   "source": [
    "import tweepy, os"
   ]
  },
  {
   "cell_type": "code",
   "execution_count": null,
   "id": "11f17021-8b66-4881-a748-76a4455513bf",
   "metadata": {},
   "outputs": [],
   "source": [
    "TWITTER_API_BEARER_TOKEN=os.environ.get('TWITTER_API_BEARER_TOKEN')"
   ]
  },
  {
   "cell_type": "code",
   "execution_count": null,
   "id": "90fd76ed-74de-4f16-850c-197fae17782a",
   "metadata": {},
   "outputs": [],
   "source": [
    "auth = tweepy.OAuth2BearerHandler(TWITTER_API_BEARER_TOKEN)\n",
    "api = tweepy.API(auth)"
   ]
  },
  {
   "cell_type": "code",
   "execution_count": null,
   "id": "74e64b4b-8981-4ffa-a2f1-2dd14c465de8",
   "metadata": {},
   "outputs": [],
   "source": [
    "client = tweepy.Client(bearer_token=TWITTER_API_BEARER_TOKEN)"
   ]
  },
  {
   "cell_type": "code",
   "execution_count": null,
   "id": "1a372da6-1535-4c42-8646-2a216c1da9d4",
   "metadata": {},
   "outputs": [],
   "source": [
    "USER_ID = 782268722006425600 # Sentinel2Bot"
   ]
  },
  {
   "cell_type": "code",
   "execution_count": null,
   "id": "e8bb1c23-3e03-4b63-87b7-0b81164bfc8d",
   "metadata": {},
   "outputs": [],
   "source": [
    "tweet_fields = ['attachments','created_at']"
   ]
  },
  {
   "cell_type": "code",
   "execution_count": null,
   "id": "1a2f4a09-3c42-4ccf-bd34-c15647a0c27c",
   "metadata": {},
   "outputs": [],
   "source": [
    "response = client.get_users_tweets(\n",
    "    USER_ID, \n",
    "    max_results=10, \n",
    "    tweet_fields=tweet_fields, \n",
    "    media_fields=['url'],\n",
    "    expansions=[\"attachments.media_keys\"]\n",
    ")"
   ]
  },
  {
   "cell_type": "code",
   "execution_count": null,
   "id": "fcbddef1-a9ea-46c6-93af-fdc40890200a",
   "metadata": {},
   "outputs": [],
   "source": [
    "img_urls = {el.media_key:el.url for el in response.includes['media']}"
   ]
  },
  {
   "cell_type": "code",
   "execution_count": null,
   "id": "d7d655e0-cdc0-4850-97e5-0e59e85d5651",
   "metadata": {},
   "outputs": [],
   "source": [
    "for tweet in response.data:\n",
    "    print (tweet.id, tweet.text, img_urls[tweet.attachments['media_keys'][0]])"
   ]
  }
 ],
 "metadata": {
  "kernelspec": {
   "display_name": "Python (twit2imgs)",
   "language": "python",
   "name": "twit2imgs"
  },
  "language_info": {
   "codemirror_mode": {
    "name": "ipython",
    "version": 3
   },
   "file_extension": ".py",
   "mimetype": "text/x-python",
   "name": "python",
   "nbconvert_exporter": "python",
   "pygments_lexer": "ipython3",
   "version": "3.9.15"
  }
 },
 "nbformat": 4,
 "nbformat_minor": 5
}
